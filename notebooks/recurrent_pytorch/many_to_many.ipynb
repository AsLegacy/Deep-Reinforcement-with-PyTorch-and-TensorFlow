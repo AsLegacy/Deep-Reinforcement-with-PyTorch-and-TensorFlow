{
 "cells": [
  {
   "cell_type": "markdown",
   "metadata": {},
   "source": [
    "# Simple Decoder (Many-to-Many) with LSTM in Pytorch\n",
    "This is a simple encoder/decoder module with the Many-to-Many simple pattern. This means that the outtput sequence size must match the input sequence size.\n",
    "![alt text](imgs/sequnce_types.png \"Types\")\n",
    "\n",
    "### Problem\n",
    "The input message will be encrypted simply by adding 2 elements on alphabet position (ie: A-->C, B-->D, etc...)\n",
    "\n",
    "### Creating LSTM layer in Pytorch easy way\n",
    "```python\n",
    "# Step 1\n",
    "lstm = torch.nn.LSTM(input_size=5, hidden_size=10, batch_first=True)\n",
    "```\n",
    "\n",
    "### References\n",
    "* https://colah.github.io/posts/2015-08-Understanding-LSTMs/\n",
    "* http://karpathy.github.io/2015/05/21/rnn-effectiveness/\n",
    "* https://medium.com/@nikhilweee/building-your-first-rnn-with-pytorch-8568b6f2ec71\n",
    "* https://towardsdatascience.com/3-silver-bullets-of-word-embedding-in-nlp-10fa8f50cc5a\n",
    "* https://pytorch.org/tutorials/intermediate/char_rnn_classification_tutorial.html\n",
    "* https://www.kaggle.com/uciml/human-activity-recognition-with-smartphones\n",
    "* https://pytorch.org/tutorials/beginner/nlp/word_embeddings_tutorial.html\n",
    "* https://www.quora.com/What-does-PyTorch-Embedding-do\n",
    "* https://stackoverflow.com/questions/50747947/embedding-in-pytorch"
   ]
  },
  {
   "cell_type": "code",
   "execution_count": 1,
   "metadata": {},
   "outputs": [],
   "source": [
    "import torch\n",
    "import torch.nn as nn\n",
    "import random\n",
    "import numpy as np\n",
    "import matplotlib.pyplot as plt\n",
    "import matplotlib.ticker as ticker\n",
    "\n",
    "vocab = [char for char in 'ABCDEFGHIJKLMNOPQRSTUVWXYZ-']\n",
    "num_epochs = 10\n",
    "\n",
    "batch_size = 128\n",
    "embedding_dim = 10\n",
    "vocab_size = len(vocab)"
   ]
  },
  {
   "cell_type": "markdown",
   "metadata": {},
   "source": [
    "### Encode Function"
   ]
  },
  {
   "cell_type": "code",
   "execution_count": 2,
   "metadata": {},
   "outputs": [
    {
     "name": "stdout",
     "output_type": "stream",
     "text": [
      "CDEFGHIJKLMNOPQRSTUVWXYZ-AB\n",
      "Encrypted: NGQ\n",
      "Decrypted: LEO\n"
     ]
    }
   ],
   "source": [
    "# Jumpt 13 characters\n",
    "def encrypt(text, key = 2):\n",
    "    \"\"\"Returns the encrypted form of 'text'.\"\"\"\n",
    "    indexes = [vocab.index(char) for char in text]\n",
    "    encrypted_indexes = [(idx + key) % len(vocab) for idx in indexes]\n",
    "    encrypted_chars = [vocab[idx] for idx in encrypted_indexes]\n",
    "    encrypted = ''.join(encrypted_chars)\n",
    "    return encrypted\n",
    "\n",
    "\n",
    "def decrypt(text, key = 2):\n",
    "    \"\"\"Returns the encrypted form of 'text'.\"\"\"\n",
    "    indexes = [vocab.index(char) for char in text]\n",
    "    encrypted_indexes = [(idx - key) % len(vocab) for idx in indexes]\n",
    "    encrypted_chars = [vocab[idx] for idx in encrypted_indexes]\n",
    "    encrypted = ''.join(encrypted_chars)\n",
    "    return encrypted\n",
    "\n",
    "print(encrypt('ABCDEFGHIJKLMNOPQRSTUVWXYZ-'))\n",
    "enc_msg = encrypt('LEO')\n",
    "print('Encrypted:',enc_msg)\n",
    "dec_msg = decrypt(enc_msg)\n",
    "print('Decrypted:',dec_msg)"
   ]
  },
  {
   "cell_type": "markdown",
   "metadata": {},
   "source": [
    "### Create a dataset\n",
    "Create a list size (batch_size) of encrypted/decrypted message tensors.\n",
    "\n",
    "#### Some important points about sequence Modelling\n",
    "On Sequence training, each sample on the batch need to follow some order, but the samples on the batch doesnt need to have correlation in time between themselves.\n",
    "\n",
    "Also in theory the samples inside the batch doesnt need to have the same size"
   ]
  },
  {
   "cell_type": "code",
   "execution_count": 3,
   "metadata": {},
   "outputs": [],
   "source": [
    "def dataset(batch_size, message_length = 32):\n",
    "    \"\"\"Returns a list of 'num_examples' pairs of the form (encrypted, original).\n",
    "\n",
    "    Both elements of the pair are tensors containing indexes of each character\n",
    "    of the corresponding encrypted or original message.\n",
    "    \"\"\"\n",
    "    # We could change the sample size in between samples on the same batch\n",
    "    message_length = random.randint(10, 32)\n",
    "    dataset = []\n",
    "    for x in range(batch_size):\n",
    "        ex_out = ''.join([random.choice(vocab) for x in range(message_length)])\n",
    "        # may be: MANR-TQNNAFEGIDE-OXQZANSVEMJXWSU\n",
    "        ex_in = encrypt(''.join(ex_out))\n",
    "        \n",
    "        # may be: ZN-DMFC--NSRTVQRMAJCLN-EHRZWJIEG (Model Input)\n",
    "        ex_in = [vocab.index(x) for x in ex_in]\n",
    "        # may be: [25, 13, 26, 3, 12, 5, 2, 26, 26, (Model Label)\n",
    "        ex_out = [vocab.index(x) for x in ex_out]\n",
    "        \n",
    "        # Return a batch\n",
    "        # may be: [12, 0, 13, 17, 26, 19, 16, 13, ...\n",
    "        dataset.append([torch.tensor(ex_in), torch.tensor(ex_out)])\n",
    "    return dataset"
   ]
  },
  {
   "cell_type": "markdown",
   "metadata": {},
   "source": [
    "### Define and instantiate LSTM Decoder Model"
   ]
  },
  {
   "cell_type": "code",
   "execution_count": 4,
   "metadata": {},
   "outputs": [],
   "source": [
    "class DecoderLSTM(nn.Module):\n",
    "    def __init__(self, vocab_size, embedding_dim, hidden_dim = 8):\n",
    "        super(DecoderLSTM, self).__init__()\n",
    "        self.hidden_dim = hidden_dim\n",
    "        # Create Embedding of \"vocabulary size tensors\" of size \"embedding_dim\"\n",
    "        self.embed = torch.nn.Embedding(vocab_size, embedding_dim)\n",
    "        # Create LSTM layer (input_size, size_hidden_features)\n",
    "        self.lstm = torch.nn.LSTM(embedding_dim, hidden_dim)\n",
    "        # Create FC layer (input_size, output_size)\n",
    "        self.linear = torch.nn.Linear(hidden_dim, vocab_size)\n",
    "        # Create Softmax Layer\n",
    "        self.softmax = torch.nn.functional.softmax\n",
    "\n",
    "    def forward(self, input):\n",
    "        # Convert the letters to dense vectors (Easier for the LSTM to learn)\n",
    "        lstm_in = self.embed(input)\n",
    "        # Add extra dimentsion to the input\n",
    "        lstm_in = lstm_in.unsqueeze(1)\n",
    "        \n",
    "        # Run the LSTM layer with a batch of samples\n",
    "        lstm_out, lstm_hidden = self.lstm(lstm_in, self.initHidden())\n",
    "        \n",
    "        # Run the FC layer\n",
    "        scores = self.linear(lstm_out)\n",
    "        \n",
    "        # Run softmax layer (Convert to probabilities)\n",
    "        predictions = self.softmax(scores, dim=2)\n",
    "        return scores, predictions\n",
    "\n",
    "    # Initialize hiddem and cell state before each batch\n",
    "    def initHidden(self):\n",
    "        return (torch.zeros(1, 1, self.hidden_dim),torch.zeros(1, 1, self.hidden_dim))\n",
    "\n",
    "\n",
    "decoder_lstm = DecoderLSTM(vocab_size=vocab_size, embedding_dim=embedding_dim)"
   ]
  },
  {
   "cell_type": "markdown",
   "metadata": {},
   "source": [
    "### Instantiate loss"
   ]
  },
  {
   "cell_type": "code",
   "execution_count": 5,
   "metadata": {},
   "outputs": [],
   "source": [
    "loss_fn = torch.nn.CrossEntropyLoss()"
   ]
  },
  {
   "cell_type": "markdown",
   "metadata": {},
   "source": [
    "### Instantiate Optimizer"
   ]
  },
  {
   "cell_type": "code",
   "execution_count": 6,
   "metadata": {},
   "outputs": [],
   "source": [
    "optimizer = torch.optim.Adam(decoder_lstm.parameters(), lr=0.001)"
   ]
  },
  {
   "cell_type": "markdown",
   "metadata": {},
   "source": [
    "### Train"
   ]
  },
  {
   "cell_type": "code",
   "execution_count": 7,
   "metadata": {},
   "outputs": [
    {
     "name": "stdout",
     "output_type": "stream",
     "text": [
      "Epoch: 0\n",
      "Loss: 3.1466\n",
      "Epoch: 1\n",
      "Loss: 2.8361\n",
      "Epoch: 2\n",
      "Loss: 2.3299\n",
      "Epoch: 3\n",
      "Loss: 2.0675\n",
      "Epoch: 4\n",
      "Loss: 1.5893\n",
      "Epoch: 5\n",
      "Loss: 1.3763\n",
      "Epoch: 6\n",
      "Loss: 1.2076\n",
      "Epoch: 7\n",
      "Loss: 0.9377\n",
      "Epoch: 8\n",
      "Loss: 0.8511\n",
      "Epoch: 9\n",
      "Loss: 0.6529\n"
     ]
    },
    {
     "data": {
      "text/plain": [
       "[<matplotlib.lines.Line2D at 0x11ced67f0>]"
      ]
     },
     "execution_count": 7,
     "metadata": {},
     "output_type": "execute_result"
    },
    {
     "data": {
      "image/png": "[encoded data removed]",
      "text/plain": [
       "<Figure size 432x288 with 1 Axes>"
      ]
     },
     "metadata": {
      "needs_background": "light"
     },
     "output_type": "display_data"
    }
   ],
   "source": [
    "accuracies, max_accuracy = [], 0\n",
    "all_losses = []\n",
    "for x in range(num_epochs):\n",
    "    print('Epoch: {}'.format(x))\n",
    "    for encrypted_msgs, label_msgs in dataset(batch_size):\n",
    "        optimizer.zero_grad()\n",
    "        scores,_ = decoder_lstm(encrypted_msgs)\n",
    "        # scores.size() = [64, 1, 27], but loss_fn expects a tensor\n",
    "        # of size [64, 27, 1]. So we switch the second and third dimensions.\n",
    "        scores = scores.transpose(1, 2)\n",
    "        # original.size() = [64], but original should also be a 2D tensor\n",
    "        # of size [64, 1]. So we insert a fake dimension.\n",
    "        label_msgs = label_msgs.unsqueeze(1)\n",
    "        # Calculate loss.\n",
    "        loss = loss_fn(scores, label_msgs) \n",
    "        # Backpropagate\n",
    "        loss.backward()\n",
    "        # Update weights\n",
    "        optimizer.step()\n",
    "    all_losses.append(loss.item())\n",
    "    print('Loss: {:6.4f}'.format(loss.item()))\n",
    "\n",
    "plt.figure()\n",
    "plt.plot(all_losses)"
   ]
  },
  {
   "cell_type": "markdown",
   "metadata": {},
   "source": [
    "### Validate"
   ]
  },
  {
   "cell_type": "code",
   "execution_count": 8,
   "metadata": {},
   "outputs": [
    {
     "name": "stdout",
     "output_type": "stream",
     "text": [
      "Accuracy: 100.00%\n"
     ]
    }
   ],
   "source": [
    "with torch.no_grad():\n",
    "        matches, total = 0, 0\n",
    "        for encrypted_msgs, label_msgs in dataset(batch_size):\n",
    "            scores,predictions = decoder_lstm(encrypted_msgs)\n",
    "            # Choose the letter with the maximum probability\n",
    "            _, batch_out = predictions.max(dim=2)\n",
    "            # Remove fake dimension\n",
    "            batch_out = batch_out.squeeze(1)\n",
    "            # Calculate accuracy\n",
    "            matches += torch.eq(batch_out, label_msgs).sum().item()\n",
    "            total += torch.numel(batch_out)\n",
    "        accuracy = matches / total\n",
    "        print('Accuracy: {:4.2f}%'.format(accuracy * 100))"
   ]
  },
  {
   "cell_type": "markdown",
   "metadata": {},
   "source": [
    "### Test on a single message"
   ]
  },
  {
   "cell_type": "code",
   "execution_count": 9,
   "metadata": {},
   "outputs": [
    {
     "name": "stdout",
     "output_type": "stream",
     "text": [
      "\n",
      "Label text (Expected output)\n",
      "['M', 'K', 'P', 'X', 'N', 'Z', 'E', 'G', 'S', 'Z', 'R', 'N', 'U', 'I', '-', 'D']\n"
     ]
    }
   ],
   "source": [
    "sample = dataset(1)\n",
    "encrypted_msgs = sample[0][0]\n",
    "label_msgs = sample[0][1]\n",
    "print('\\nLabel text (Expected output)')\n",
    "label_msgs_chars = [vocab[char] for char in label_msgs]\n",
    "print(label_msgs_chars)"
   ]
  },
  {
   "cell_type": "code",
   "execution_count": 10,
   "metadata": {},
   "outputs": [
    {
     "name": "stdout",
     "output_type": "stream",
     "text": [
      "Input: [14 12 17 25 15  0  6  8 20  0 19 15 22 10  1  5]\n",
      "\n",
      "Expected output: [12 10 15 23 13 25  4  6 18 25 17 13 20  8 26  3]\n",
      "\n",
      "Model output: [12 10 15 23 13 25  4  6 18 25 17 13 20  8 26  3]\n",
      "\n",
      "Decrypted text\n",
      "['M', 'K', 'P', 'X', 'N', 'Z', 'E', 'G', 'S', 'Z', 'R', 'N', 'U', 'I', '-', 'D']\n"
     ]
    }
   ],
   "source": [
    "scores,predictions = decoder_lstm(encrypted_msgs)\n",
    "_, batch_out = predictions.max(dim=2)\n",
    "batch_out = batch_out.squeeze(1)\n",
    "decrypted_msg_model = batch_out.numpy()\n",
    "\n",
    "print('Input:',encrypted_msgs.numpy())\n",
    "print('\\nExpected output:',label_msgs.numpy())\n",
    "print('\\nModel output:',decrypted_msg_model)\n",
    "\n",
    "print('\\nDecrypted text')\n",
    "decrypted_msg_chars = [vocab[char] for char in decrypted_msg_model]\n",
    "print(decrypted_msg_chars)"
   ]
  }
 ],
 "metadata": {
  "kernelspec": {
   "display_name": "Python 3",
   "language": "python",
   "name": "python3"
  },
  "language_info": {
   "codemirror_mode": {
    "name": "ipython",
    "version": 3
   },
   "file_extension": ".py",
   "mimetype": "text/x-python",
   "name": "python",
   "nbconvert_exporter": "python",
   "pygments_lexer": "ipython3",
   "version": "3.6.8"
  }
 },
 "nbformat": 4,
 "nbformat_minor": 2
}
