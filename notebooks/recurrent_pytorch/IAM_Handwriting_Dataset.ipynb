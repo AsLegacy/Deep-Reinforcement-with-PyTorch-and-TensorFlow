{
 "cells": [
  {
   "cell_type": "markdown",
   "metadata": {},
   "source": [
    "# Parse Information from IAM Handwriting Dataset\n",
    "\n",
    "### File format\n",
    "The filenames are hyphen-separated. Test id - Writer id - Passage id - Sentence id.\n",
    "* Linestroke file: a01-000u-01.xml (Test \"a01\" Writer \"000u\" Sentence \"01\")\n",
    "* ASCII file: a01-000u.txt (Get the lines after CSR)\n",
    "\n",
    "### References \n",
    "* http://www.fki.inf.unibe.ch/databases/iam-on-line-handwriting-database\n",
    "* http://blog.otoro.net/2015/12/12/handwriting-generation-demo-in-tensorflow/\n",
    "* https://github.com/greydanus/scribe\n",
    "* https://github.com/greydanus/scribe/blob/master/sample.ipynb\n",
    "* https://github.com/greydanus/scribe/blob/master/dataloader.ipynb\n",
    "* https://distill.pub/2017/ctc/\n",
    "* https://lirnli.wordpress.com/2017/09/24/notes-fake-handwriting-generation-with-pytorch/\n",
    "* https://www.kaggle.com/tejasreddy/iam-handwriting-top50/kernels\n",
    "* https://www.kaggle.com/c/tensorflow-speech-recognition-challenge/kernels\n",
    "* https://towardsdatascience.com/kaggle-tensorflow-speech-recognition-challenge-b46a3bca2501"
   ]
  },
  {
   "cell_type": "code",
   "execution_count": 1,
   "metadata": {},
   "outputs": [],
   "source": [
    "import tensorflow as tf\n",
    "import os\n",
    "import pickle\n",
    "import numpy as np\n",
    "import xml.etree.ElementTree as ET\n",
    "import random\n",
    "import matplotlib.pyplot as plt\n",
    "import pandas as pd\n",
    "%matplotlib inline\n",
    "\n",
    "stroke_dir = \"data/lineStrokes\"\n",
    "ascii_dir = \"data/ascii\"\n",
    "pickle_filename = \"data/strokes_training_data.cpkl\"\n",
    "\n",
    "tf.enable_eager_execution()"
   ]
  },
  {
   "cell_type": "markdown",
   "metadata": {},
   "source": [
    "### Read Stroke Directories\n",
    "The most interesting files for us will be ascii and linestrokes"
   ]
  },
  {
   "cell_type": "code",
   "execution_count": null,
   "metadata": {},
   "outputs": [],
   "source": [
    "# build the list of xml files\n",
    "stroke_file_list = []\n",
    "for dirName, subdirList, fileList in os.walk(stroke_dir):\n",
    "    #print('Found directory: %s' % dirName)\n",
    "    for fname in fileList:\n",
    "        #print('\\t%s' % fname)\n",
    "        if 'xml' in fname:\n",
    "            stroke_file_list.append(dirName+\"/\"+fname)\n",
    "\n",
    "print('Found:', len(stroke_file_list), ' directories to process')"
   ]
  },
  {
   "cell_type": "markdown",
   "metadata": {},
   "source": [
    "### Process Stroke XML file\n",
    "The XML format contains the tuple (x,y,time) of strokes, a stroke is basically when the pen touches the paper until it leaves the paper.\n",
    "```XML\n",
    "<Stroke colour=\"black\" start_time=\"769.70\" end_time=\"769.90\">\n",
    "      <Point x=\"1176\" y=\"1237\" time=\"769.70\"/>\n",
    "      <Point x=\"1175\" y=\"1233\" time=\"769.72\"/>\n",
    "      <Point x=\"1171\" y=\"1229\" time=\"769.74\"/>\n",
    "      <Point x=\"1169\" y=\"1230\" time=\"769.75\"/>\n",
    "      <Point x=\"1158\" y=\"1230\" time=\"769.76\"/>\n",
    "      <Point x=\"1139\" y=\"1227\" time=\"769.78\"/>\n",
    "      <Point x=\"1118\" y=\"1228\" time=\"769.80\"/>\n",
    "      <Point x=\"1092\" y=\"1229\" time=\"769.81\"/>\n",
    "      <Point x=\"1065\" y=\"1233\" time=\"769.82\"/>\n",
    "      <Point x=\"1041\" y=\"1236\" time=\"769.84\"/>\n",
    "      <Point x=\"1024\" y=\"1239\" time=\"769.86\"/>\n",
    "      <Point x=\"1015\" y=\"1243\" time=\"769.87\"/>\n",
    "      <Point x=\"1010\" y=\"1239\" time=\"769.88\"/>\n",
    "      <Point x=\"1014\" y=\"1243\" time=\"769.90\"/>\n",
    "    </Stroke>\n",
    "```"
   ]
  },
  {
   "cell_type": "code",
   "execution_count": null,
   "metadata": {},
   "outputs": [],
   "source": [
    "def getStrokes(filename):\n",
    "    tree = ET.parse(filename)\n",
    "    root = tree.getroot()\n",
    "\n",
    "    result = []\n",
    "\n",
    "    x_offset = 1e20\n",
    "    y_offset = 1e20\n",
    "    y_height = 0\n",
    "    for i in range(1, 4):\n",
    "        x_offset = min(x_offset, float(root[0][i].attrib['x']))\n",
    "        y_offset = min(y_offset, float(root[0][i].attrib['y']))\n",
    "        y_height = max(y_height, float(root[0][i].attrib['y']))\n",
    "    y_height -= y_offset\n",
    "    x_offset -= 100\n",
    "    y_offset -= 100\n",
    "\n",
    "    # Iterate on each stroke of the file\n",
    "    for stroke in root[1].findall('Stroke'):\n",
    "        points = []\n",
    "        # Iterate on each point of the stroke\n",
    "        for point in stroke.findall('Point'):\n",
    "            points.append([float(point.attrib['x'])-x_offset,float(point.attrib['y'])-y_offset])\n",
    "        result.append(points)\n",
    "    return result"
   ]
  },
  {
   "cell_type": "markdown",
   "metadata": {},
   "source": [
    "### Convert Stroke to Numpy Array\n",
    "Format x,y,stroke where stroke is 1 when it's finished. The time is not needed because the strokes will appear in order."
   ]
  },
  {
   "cell_type": "code",
   "execution_count": null,
   "metadata": {},
   "outputs": [],
   "source": [
    "def convert_stroke_to_array(stroke):\n",
    "    n_point = 0\n",
    "    for i in range(len(stroke)):\n",
    "        n_point += len(stroke[i])\n",
    "    stroke_data = np.zeros((n_point, 3), dtype=np.int16)\n",
    "\n",
    "    prev_x = 0\n",
    "    prev_y = 0\n",
    "    counter = 0\n",
    "\n",
    "    for j in range(len(stroke)):\n",
    "        for k in range(len(stroke[j])):\n",
    "            stroke_data[counter, 0] = int(stroke[j][k][0]) - prev_x\n",
    "            stroke_data[counter, 1] = int(stroke[j][k][1]) - prev_y\n",
    "            prev_x = int(stroke[j][k][0])\n",
    "            prev_y = int(stroke[j][k][1])\n",
    "            stroke_data[counter, 2] = 0\n",
    "            # Mark end of the stroke\n",
    "            if (k == (len(stroke[j])-1)):\n",
    "                stroke_data[counter, 2] = 1\n",
    "            counter += 1\n",
    "    return stroke_data"
   ]
  },
  {
   "cell_type": "markdown",
   "metadata": {},
   "source": [
    "### Display Stroke"
   ]
  },
  {
   "cell_type": "code",
   "execution_count": 3,
   "metadata": {},
   "outputs": [],
   "source": [
    "def line_plot(strokes, title):\n",
    "    plt.figure(figsize=(20,2))\n",
    "    \n",
    "    # Trick to avoid having the letters in the same place\n",
    "    # Return the cumulative sum along a given axis. stroke_numpy[:,:-1]==>(X,Y)\n",
    "    strokes[:,0:2] = np.cumsum(strokes[:,0:2], axis=0)\n",
    "    \n",
    "    eos_preds = np.where(strokes[:,-1] == 1)\n",
    "    eos_preds = [0] + list(eos_preds[0]) + [-1] #add start and end indices\n",
    "    for i in range(len(eos_preds)-1):\n",
    "        start = eos_preds[i]+1\n",
    "        stop = eos_preds[i+1]\n",
    "        plt.plot(strokes[start:stop,0], strokes[start:stop,1],'b-', linewidth=2.0)\n",
    "    plt.title(title)\n",
    "    plt.gca().invert_yaxis()\n",
    "    plt.show()"
   ]
  },
  {
   "cell_type": "markdown",
   "metadata": {},
   "source": [
    "### Process ASCII File\n",
    "We want to gather the lines bellow the CSR section. The ASCII files will have the same filename as the stroke xml files."
   ]
  },
  {
   "cell_type": "code",
   "execution_count": 2,
   "metadata": {},
   "outputs": [],
   "source": [
    "# function to read each individual xml file\n",
    "def getAscii(filename, line_number):\n",
    "    with open(filename, \"r\") as f:\n",
    "        s = f.read()\n",
    "    s = s[s.find(\"CSR\"):]\n",
    "    if len(s.split(\"\\n\")) > line_number+2:\n",
    "        s = s.split(\"\\n\")[line_number+2]\n",
    "        return s\n",
    "    else:\n",
    "        return \"\""
   ]
  },
  {
   "cell_type": "code",
   "execution_count": null,
   "metadata": {},
   "outputs": [],
   "source": [
    "file_num=1#12100\n",
    "# Replace lineStrokes by ascii and change the .xml to .txt\n",
    "print('Stroke filename:',stroke_file_list[file_num])\n",
    "# Get the sentence id from the filename\n",
    "sentence_num = int(stroke_file_list[file_num][-6:-4])-1\n",
    "print('Sentence:', sentence_num)\n",
    "# The ASCII filename is the same as the XML with some modifications\n",
    "ascii_file = stroke_file_list[file_num].replace(\"lineStrokes\",\"ascii\")[:-7] + \".txt\"\n",
    "print('ASCII filename:',ascii_file)\n",
    "stroke_raw = getStrokes(stroke_file_list[file_num])\n",
    "stroke_numpy = convert_stroke_to_array(stroke_raw)\n",
    "label = getAscii(ascii_file,sentence_num)\n",
    "print('Label:', label)\n",
    "\n",
    "# Preprocess strokes (Avoid outliers and scale)\n",
    "stroke_numpy = np.minimum(stroke_numpy, 500)\n",
    "stroke_numpy = np.maximum(stroke_numpy, -500)\n",
    "stroke_numpy = np.array(stroke_numpy,dtype=np.float32)\n",
    "stroke_numpy[:,0:2] /= 10\n",
    "\n",
    "line_plot(stroke_numpy, label)"
   ]
  },
  {
   "cell_type": "markdown",
   "metadata": {},
   "source": [
    "### Load Data from pickle"
   ]
  },
  {
   "cell_type": "code",
   "execution_count": 4,
   "metadata": {},
   "outputs": [],
   "source": [
    "def load_preprocessed(data_file, tsteps=300, limit=500, scale_factor=10):\n",
    "    f = open(data_file,\"rb\")\n",
    "    [raw_stroke_data, raw_ascii_data] = pickle.load(f)\n",
    "    f.close()\n",
    "\n",
    "    # goes thru the list, and only keeps the text entries that have more than tsteps points\n",
    "    stroke_data = []\n",
    "    ascii_data = []\n",
    "    counter = 0\n",
    "\n",
    "    for i in range(len(raw_stroke_data)):\n",
    "        data = raw_stroke_data[i]\n",
    "        if len(data) > (tsteps+2):\n",
    "            # removes large gaps from the data\n",
    "            data = np.minimum(data, limit)\n",
    "            data = np.maximum(data, -limit)\n",
    "            data = np.array(data,dtype=np.float32)\n",
    "            data[:,0:2] /= scale_factor\n",
    "\n",
    "            stroke_data.append(data)\n",
    "            ascii_data.append(raw_ascii_data[i])\n",
    "\n",
    "\n",
    "    print (\"Loaded dataset:\")\n",
    "    print (\"   -> {} individual data points\".format(len(stroke_data)))\n",
    "    return stroke_data, ascii_data"
   ]
  },
  {
   "cell_type": "code",
   "execution_count": 5,
   "metadata": {},
   "outputs": [
    {
     "name": "stdout",
     "output_type": "stream",
     "text": [
      "Loaded dataset:\n",
      "   -> 11600 individual data points\n"
     ]
    },
    {
     "data": {
      "image/png": "[encoded data removed]",
      "text/plain": [
       "<Figure size 1440x144 with 1 Axes>"
      ]
     },
     "metadata": {
      "needs_background": "light"
     },
     "output_type": "display_data"
    }
   ],
   "source": [
    "X,Y = load_preprocessed(pickle_filename)\n",
    "X_np = np.asarray(X)\n",
    "line_plot(X[0], Y[0])"
   ]
  },
  {
   "cell_type": "markdown",
   "metadata": {},
   "source": [
    "### Convert Data to  Pandas Dataframe"
   ]
  },
  {
   "cell_type": "code",
   "execution_count": 6,
   "metadata": {},
   "outputs": [],
   "source": [
    "df_handwriting = pd.DataFrame({'X':X_np,'Y':Y})\n",
    "# Save dataframe to pickle\n",
    "df_handwriting.to_pickle(\"data/strokes_training_data_df_processed.cpkl\")"
   ]
  },
  {
   "cell_type": "markdown",
   "metadata": {},
   "source": [
    "### Convert Pandas to Tensorflow Dataset\n",
    "\n",
    "#### References\n",
    "* https://www.tensorflow.org/guide/datasets\n",
    "* https://medium.com/when-i-work-data/converting-a-pandas-dataframe-into-a-tensorflow-dataset-752f3783c168\n",
    "* https://stackoverflow.com/questions/50641588/how-to-create-a-tensorflow-dataset-from-a-dataframe-with-vector-columns"
   ]
  },
  {
   "cell_type": "code",
   "execution_count": null,
   "metadata": {},
   "outputs": [],
   "source": [
    "# (num_lines, num_strokes, 3)\n",
    "def merge_strokes(X):\n",
    "    stroke_array = np.zeros((len(X),3))\n",
    "    for line in X:\n",
    "        for stroke in line:\n",
    "            #print(stroke.shape)\n",
    "            pass\n",
    "    return stroke_array"
   ]
  },
  {
   "cell_type": "code",
   "execution_count": null,
   "metadata": {},
   "outputs": [],
   "source": [
    "merge_strokes(X_np)"
   ]
  },
  {
   "cell_type": "code",
   "execution_count": null,
   "metadata": {},
   "outputs": [],
   "source": [
    "# The slices need feature names to work properly\n",
    "training_dataset = tf.data.Dataset.from_tensor_slices((df_handwriting.X, df_handwriting.Y))"
   ]
  }
 ],
 "metadata": {
  "kernelspec": {
   "display_name": "Python 3",
   "language": "python",
   "name": "python3"
  },
  "language_info": {
   "codemirror_mode": {
    "name": "ipython",
    "version": 3
   },
   "file_extension": ".py",
   "mimetype": "text/x-python",
   "name": "python",
   "nbconvert_exporter": "python",
   "pygments_lexer": "ipython3",
   "version": "3.6.8"
  }
 },
 "nbformat": 4,
 "nbformat_minor": 2
}
