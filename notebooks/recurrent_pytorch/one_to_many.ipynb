{
 "cells": [
  {
   "cell_type": "markdown",
   "metadata": {},
   "source": [
    "# Text Generation (Char-RNN) One-to-Many\n",
    "On this example we will generate text by feeding one character and let the RNN network generate the text. The example uses the one-to-may structure.\n",
    "\n",
    "### Training\n",
    "The training process is just the training of a character level languange model, where we input a sequence and expect the same sequence in order to learn the details of a certain language. During training this will be the many-to-many architecture.\n",
    "\n",
    "#### What is a Language Model\n",
    "It's basically a network that gives the probability of a sequence, in other words, it gives the probability of s string of being part of some language. Language models are used for example to correct speach recognition systems.\n",
    "$$P(\\text{\"The apple and bear salad\"})=0.01$$\n",
    "$$P(\\text{\"The apple and pear salad\"})=0.4$$\n",
    "\n",
    "### Evaluation\n",
    "During evaluation we simply give some input to the RNN, sample it's output at random and feed this output back again to the RNN.\n",
    "\n",
    "### Referenes\n",
    "* http://karpathy.github.io/2015/05/21/rnn-effectiveness/\n",
    "* https://www.youtube.com/watch?v=CKrxdgqBheY\n",
    "* https://github.com/Kulbear/deep-learning-coursera/blob/master/Sequence%20Models/Dinosaurus%20Island%20--%20Character%20level%20language%20model%20final%20-%20v3.ipynb\n",
    "* https://github.com/furkanu/deeplearning.ai-pytorch/blob/master/5-%20Sequence%20Models/Week%201/Dinosaur%20Island%20--%20Character-level%20language%20model/Dinosaur%20Island%20RNN.ipynb\n",
    "* https://medium.com/@ppasumarthi_69210/language-model-using-char-rnn-1df53f735880\n",
    "* https://medium.com/@jianqiangma/all-about-recurrent-neural-networks-9e5ae2936f6e\n",
    "* https://medium.com/datathings/the-magic-of-lstm-neural-networks-6775e8b540cd\n",
    "* https://medium.com/phrasee/neural-text-generation-generating-text-using-conditional-language-models-a37b69c7cd4b\n",
    "* https://medium.com/@florijan.stamenkovic_99541/rnn-language-modelling-with-pytorch-packed-batching-and-tied-weights-9d8952db35a9"
   ]
  },
  {
   "cell_type": "code",
   "execution_count": null,
   "metadata": {},
   "outputs": [],
   "source": []
  }
 ],
 "metadata": {
  "kernelspec": {
   "display_name": "Python 3",
   "language": "python",
   "name": "python3"
  },
  "language_info": {
   "codemirror_mode": {
    "name": "ipython",
    "version": 3
   },
   "file_extension": ".py",
   "mimetype": "text/x-python",
   "name": "python",
   "nbconvert_exporter": "python",
   "pygments_lexer": "ipython3",
   "version": "3.6.8"
  }
 },
 "nbformat": 4,
 "nbformat_minor": 2
}
