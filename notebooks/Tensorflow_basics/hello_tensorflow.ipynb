{
 "cells": [
  {
   "cell_type": "markdown",
   "metadata": {},
   "source": [
    "# Hello Tensorflow 2.0\n",
    "\n",
    "### Installing\n",
    "```bash\n",
    "pip install tensorflow-datasets\n",
    "pip install tensorflow-gpu==2.0.0-alpha0\n",
    "```\n",
    "\n",
    "### Starting Tensorboard\n",
    "```bash\n",
    "tensorboard --logdir=logs/gradient_tape\n",
    "```\n",
    "\n",
    "### References\n",
    "* https://medium.com/tensorflow/introducing-tensorflow-datasets-c7f01f7e19f3\n",
    "* https://www.youtube.com/watch?v=P4_rJfHpr7k&list=PLQY2H8rRoyvzoUYI26kHmKSJBedn3SQuB\n",
    "* https://medium.com/tensorflow/upgrading-your-code-to-tensorflow-2-0-f72c3a4d83b5\n",
    "* https://www.tensorflow.org/tutorials/eager/automatic_differentiation\n",
    "* https://www.tensorflow.org/tutorials/eager/eager_basics\n",
    "* https://www.tensorflow.org/tensorboard/r2/get_started"
   ]
  },
  {
   "cell_type": "code",
   "execution_count": 1,
   "metadata": {},
   "outputs": [],
   "source": [
    "import tensorflow_datasets as tfds\n",
    "import tensorflow as tf\n",
    "import datetime\n",
    "\n",
    "from tensorflow.keras.layers import Dense, Flatten, Conv2D\n",
    "from tensorflow.keras import Model\n",
    "\n",
    "num_epochs = 5\n",
    "\n",
    "# Delete previous logs\n",
    "!rm -rf ./logs/ "
   ]
  },
  {
   "cell_type": "markdown",
   "metadata": {},
   "source": [
    "### Configure Tensorboard"
   ]
  },
  {
   "cell_type": "code",
   "execution_count": 2,
   "metadata": {},
   "outputs": [],
   "source": [
    "current_time = datetime.datetime.now().strftime(\"%Y%m%d-%H%M%S\")\n",
    "train_log_dir = 'logs/gradient_tape/' + current_time + '/train'\n",
    "test_log_dir = 'logs/gradient_tape/' + current_time + '/test'\n",
    "train_summary_writer = tf.summary.create_file_writer(train_log_dir)\n",
    "test_summary_writer = tf.summary.create_file_writer(test_log_dir)"
   ]
  },
  {
   "cell_type": "markdown",
   "metadata": {},
   "source": [
    "### Load Data from Tensorflow public datasets Repositories"
   ]
  },
  {
   "cell_type": "code",
   "execution_count": 3,
   "metadata": {},
   "outputs": [],
   "source": [
    "dataset, info = tfds.load('mnist', with_info=True, as_supervised=True)\n",
    "mnist_train, mnist_test = dataset['train'], dataset['test']"
   ]
  },
  {
   "cell_type": "markdown",
   "metadata": {},
   "source": [
    "### Pre-process the data"
   ]
  },
  {
   "cell_type": "code",
   "execution_count": 4,
   "metadata": {},
   "outputs": [],
   "source": [
    "def convert_types(image, label):\n",
    "    image = tf.cast(image, tf.float32)\n",
    "    image /= 255\n",
    "    return image, label\n",
    "\n",
    "# Configure mini-batch of 32 elements and apply function to convert the data\n",
    "mnist_train = mnist_train.map(convert_types).shuffle(10000).batch(32)\n",
    "mnist_test = mnist_test.map(convert_types).batch(32)"
   ]
  },
  {
   "cell_type": "markdown",
   "metadata": {},
   "source": [
    "### Define Model"
   ]
  },
  {
   "cell_type": "code",
   "execution_count": 5,
   "metadata": {},
   "outputs": [],
   "source": [
    "class MyModel(Model):\n",
    "    # Like Pytorch instantiate here the layers\n",
    "    def __init__(self, num_classes):\n",
    "        super(MyModel, self).__init__()\n",
    "        self.conv1 = Conv2D(32, 3, activation='relu')\n",
    "        self.flatten = Flatten()\n",
    "        self.d1 = Dense(128, activation='relu')\n",
    "        self.d2 = Dense(num_classes, activation='softmax')\n",
    "\n",
    "    def call(self, x):\n",
    "        x = self.conv1(x)\n",
    "        x = self.flatten(x)\n",
    "        x = self.d1(x)\n",
    "        return self.d2(x)"
   ]
  },
  {
   "cell_type": "code",
   "execution_count": 6,
   "metadata": {},
   "outputs": [],
   "source": [
    "# Intiantiate model\n",
    "model = MyModel(10)\n",
    "\n",
    "# Define loss and optimizer\n",
    "loss_object = tf.keras.losses.SparseCategoricalCrossentropy()\n",
    "optimizer = tf.keras.optimizers.Adam()"
   ]
  },
  {
   "cell_type": "markdown",
   "metadata": {},
   "source": [
    "### Define Metrics to debug training"
   ]
  },
  {
   "cell_type": "code",
   "execution_count": 7,
   "metadata": {},
   "outputs": [],
   "source": [
    "train_loss = tf.keras.metrics.Mean(name='train_loss')\n",
    "train_accuracy = tf.keras.metrics.SparseCategoricalAccuracy(name='train_accuracy')\n",
    "test_loss = tf.keras.metrics.Mean(name='test_loss')\n",
    "test_accuracy = tf.keras.metrics.SparseCategoricalAccuracy(name='test_accuracy')"
   ]
  },
  {
   "cell_type": "markdown",
   "metadata": {},
   "source": [
    "### Define Training and Validation steps"
   ]
  },
  {
   "cell_type": "code",
   "execution_count": 8,
   "metadata": {},
   "outputs": [],
   "source": [
    "@tf.function\n",
    "def train_step(image, label):\n",
    "    # Record operations for automatic-differentiation\n",
    "    with tf.GradientTape() as tape:\n",
    "        # Apply Model and get predictions\n",
    "        predictions = model(image)\n",
    "        # Calculate Loss\n",
    "        loss = loss_object(label, predictions)\n",
    "        \n",
    "    # Calculate the gradient of the loss with respect to the model parameters\n",
    "    gradients = tape.gradient(loss, model.trainable_variables)\n",
    "    # Run optimizer\n",
    "    optimizer.apply_gradients(zip(gradients, model.trainable_variables))\n",
    "\n",
    "    # Run Debug Metrics\n",
    "    train_loss(loss)\n",
    "    train_accuracy(label, predictions)\n",
    "\n",
    "@tf.function\n",
    "def test_step(image, label):\n",
    "    # Apply Model and get predictions\n",
    "    predictions = model(image)\n",
    "    t_loss = loss_object(label, predictions)\n",
    "\n",
    "    test_loss(t_loss)\n",
    "    test_accuracy(label, predictions)"
   ]
  },
  {
   "cell_type": "markdown",
   "metadata": {},
   "source": [
    "### Train loop"
   ]
  },
  {
   "cell_type": "code",
   "execution_count": 9,
   "metadata": {},
   "outputs": [
    {
     "name": "stdout",
     "output_type": "stream",
     "text": [
      "Epoch 1:\n",
      "\tLoss: 0.14727464318275452, Acc: 95.59833526611328\n",
      "\tTest Loss: 0.06305709481239319, Test Acc: 98.08999633789062\n",
      "Epoch 2:\n",
      "\tLoss: 0.09768898785114288, Acc: 97.06999969482422\n",
      "\tTest Loss: 0.05951105058193207, Test Acc: 98.17500305175781\n",
      "Epoch 3:\n",
      "\tLoss: 0.07308969646692276, Acc: 97.78666687011719\n",
      "\tTest Loss: 0.055514197796583176, Test Acc: 98.27999877929688\n",
      "Epoch 4:\n",
      "\tLoss: 0.05875635892152786, Acc: 98.21500396728516\n",
      "\tTest Loss: 0.05596238374710083, Test Acc: 98.29750061035156\n",
      "Epoch 5:\n",
      "\tLoss: 0.04887521639466286, Acc: 98.51399993896484\n",
      "\tTest Loss: 0.0561077781021595, Test Acc: 98.3479995727539\n"
     ]
    }
   ],
   "source": [
    "# For each epoch\n",
    "for epoch in range(num_epochs):\n",
    "    # Train\n",
    "    for image, label in mnist_train:\n",
    "        train_step(image, label)\n",
    "        # Send some stuff to tensorboard\n",
    "        with train_summary_writer.as_default():\n",
    "            tf.summary.scalar('loss', train_loss.result(), step=epoch)\n",
    "            tf.summary.scalar('accuracy', train_accuracy.result(), step=epoch)\n",
    "\n",
    "\n",
    "    # Validate\n",
    "    for test_image, test_label in mnist_test:\n",
    "        test_step(test_image, test_label)\n",
    "        with test_summary_writer.as_default():\n",
    "            tf.summary.scalar('loss', test_loss.result(), step=epoch)\n",
    "            tf.summary.scalar('accuracy', test_accuracy.result(), step=epoch)\n",
    "\n",
    "    # Print some information\n",
    "    template = 'Epoch {}:\\n\\tLoss: {}, Acc: {}\\n\\tTest Loss: {}, Test Acc: {}'\n",
    "    print (template.format(epoch+1,\n",
    "                         train_loss.result(), \n",
    "                         train_accuracy.result()*100,\n",
    "                         test_loss.result(), \n",
    "                         test_accuracy.result()*100))"
   ]
  },
  {
   "cell_type": "markdown",
   "metadata": {},
   "source": [
    "### Get Summary of the Model and Save"
   ]
  },
  {
   "cell_type": "code",
   "execution_count": 10,
   "metadata": {},
   "outputs": [
    {
     "name": "stdout",
     "output_type": "stream",
     "text": [
      "Model: \"my_model\"\n",
      "_________________________________________________________________\n",
      "Layer (type)                 Output Shape              Param #   \n",
      "=================================================================\n",
      "conv2d (Conv2D)              multiple                  320       \n",
      "_________________________________________________________________\n",
      "flatten (Flatten)            multiple                  0         \n",
      "_________________________________________________________________\n",
      "dense (Dense)                multiple                  2769024   \n",
      "_________________________________________________________________\n",
      "dense_1 (Dense)              multiple                  1290      \n",
      "=================================================================\n",
      "Total params: 2,770,634\n",
      "Trainable params: 2,770,634\n",
      "Non-trainable params: 0\n",
      "_________________________________________________________________\n"
     ]
    }
   ],
   "source": [
    "model.summary()"
   ]
  }
 ],
 "metadata": {
  "kernelspec": {
   "display_name": "Python 3",
   "language": "python",
   "name": "python3"
  },
  "language_info": {
   "codemirror_mode": {
    "name": "ipython",
    "version": 3
   },
   "file_extension": ".py",
   "mimetype": "text/x-python",
   "name": "python",
   "nbconvert_exporter": "python",
   "pygments_lexer": "ipython3",
   "version": "3.6.8"
  }
 },
 "nbformat": 4,
 "nbformat_minor": 2
}
